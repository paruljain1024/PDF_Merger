{
  "nbformat": 4,
  "nbformat_minor": 0,
  "metadata": {
    "colab": {
      "provenance": [],
      "include_colab_link": true
    },
    "kernelspec": {
      "name": "python3",
      "display_name": "Python 3"
    },
    "language_info": {
      "name": "python"
    }
  },
  "cells": [
    {
      "cell_type": "markdown",
      "metadata": {
        "id": "view-in-github",
        "colab_type": "text"
      },
      "source": [
        "<a href=\"https://colab.research.google.com/github/paruljain1024/PDF_Merger/blob/main/PDF_Merger.ipynb\" target=\"_parent\"><img src=\"https://colab.research.google.com/assets/colab-badge.svg\" alt=\"Open In Colab\"/></a>"
      ]
    },
    {
      "cell_type": "code",
      "source": [
        "!pip install PyPDF2"
      ],
      "metadata": {
        "colab": {
          "base_uri": "https://localhost:8080/"
        },
        "id": "SKA48NjvZgPh",
        "outputId": "33580b91-0522-41a7-be1a-6bab722e9017"
      },
      "execution_count": null,
      "outputs": [
        {
          "output_type": "stream",
          "name": "stdout",
          "text": [
            "Requirement already satisfied: PyPDF2 in /usr/local/lib/python3.10/dist-packages (3.0.1)\n"
          ]
        }
      ]
    },
    {
      "cell_type": "code",
      "execution_count": null,
      "metadata": {
        "id": "i4H7AXnIZdnX"
      },
      "outputs": [],
      "source": [
        "import PyPDF2\n",
        "\n",
        "def merge_pdfs(input_pdfs, output_pdf):\n",
        "    pdf_writer = PyPDF2.PdfWriter()\n",
        "\n",
        "    for input_pdf in input_pdfs:\n",
        "        pdf_file = open(input_pdf, 'rb')\n",
        "        pdf_reader = PyPDF2.PdfReader(pdf_file)\n",
        "        num_pages = len(pdf_reader.pages)\n",
        "\n",
        "        for page in range(num_pages):\n",
        "            pdf_writer.add_page(pdf_reader.pages[page])\n",
        "\n",
        "        pdf_file.close()\n",
        "\n",
        "    with open(output_pdf, 'wb') as output_file:\n",
        "        pdf_writer.write(output_file)\n",
        "\n",
        "# Example usage:\n",
        "input_pdfs = ['/content/Research.pdf', '/content/Research.pdf']\n",
        "output_pdf = \"output.pdf\"\n",
        "merge_pdfs(input_pdfs, output_pdf)"
      ]
    }
  ]
}